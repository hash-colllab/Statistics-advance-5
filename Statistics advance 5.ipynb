{
 "cells": [
  {
   "cell_type": "markdown",
   "id": "0dbeddd9-f55c-46e0-b976-ee7136864639",
   "metadata": {},
   "source": [
    "Answer 1:-"
   ]
  },
  {
   "cell_type": "code",
   "execution_count": 1,
   "id": "72847ac6-cb11-46e4-8612-d2745f352eda",
   "metadata": {},
   "outputs": [
    {
     "name": "stdout",
     "output_type": "stream",
     "text": [
      "Critical t-statistic : 2.045229642132703\n",
      "Margin of Error : 1.8670306837904995\n",
      "95% Confidence Interval : ( 48.1329693162095 , 51.8670306837905 ) \n"
     ]
    }
   ],
   "source": [
    "import scipy.stats as stats\n",
    "import math\n",
    "\n",
    "sample_mean = 50\n",
    "sample_std=5\n",
    "ci=0.95\n",
    "alpha = 1-ci\n",
    "n=30 #Assumption made because sample size is not given\n",
    "df = n-1 \n",
    "\n",
    "#calculate standard error of the mean\n",
    "std_mean_error = sample_std / math.sqrt(n)\n",
    "\n",
    "#calaculate t value \n",
    "t_value = stats.t.ppf(1-alpha/2,df=df)\n",
    "\n",
    "print(f\"Critical t-statistic : {t_value}\")\n",
    "\n",
    "#margin of error\n",
    "moe = t_value *std_mean_error\n",
    "print(f\"Margin of Error : {moe}\")\n",
    "\n",
    "#calcuate upper and lower bound of the sample interval\n",
    "upper_bound= sample_mean + moe\n",
    "lower_bound= sample_mean - moe\n",
    "\n",
    "print(f\"95% Confidence Interval : ( {lower_bound} , {upper_bound} ) \") "
   ]
  },
  {
   "cell_type": "markdown",
   "id": "faba3e7c-ac74-4b3e-ba37-dc808b28e014",
   "metadata": {},
   "source": [
    "Answer 2:-"
   ]
  },
  {
   "cell_type": "code",
   "execution_count": 2,
   "id": "8967a82a-a58f-4b56-9cdd-7bb87cccfc65",
   "metadata": {},
   "outputs": [
    {
     "name": "stdout",
     "output_type": "stream",
     "text": [
      "Chi-square statistic :  1.923076923076923\n",
      "p-value :  0.8596831719899516\n",
      "Failed to Reject the null hypothesis\n",
      "Final conclusion The distribution of M&M colors does not match the expected distribution\n"
     ]
    }
   ],
   "source": [
    "from scipy.stats import chisquare\n",
    "import numpy as np\n",
    "\n",
    "#significance level\n",
    "alpha = 0.05\n",
    "\n",
    "null_hypothesis = \"The distribution of M&M colors does not match the expected distribution\"\n",
    "alternate_hypothesis = \"The distribution of M&M colors matches the expected distribution\"\n",
    "#Observed frequencies Assumption made because values are not given\n",
    "observed_frequencies = np.array([30, 25, 28, 14, 12, 21])  \n",
    "\n",
    "#Expected frequencies\n",
    "expected_frequencies = np.array([0.2,0.2,0.2,0.1,0.1,0.2]) * observed_frequencies.sum()\n",
    "\n",
    "#perform chi square goodness of fit test\n",
    "chi_square,pvalue = chisquare(observed_frequencies,expected_frequencies)\n",
    "\n",
    "print(\"Chi-square statistic : \",chi_square)\n",
    "print(\"p-value : \",pvalue)\n",
    "\n",
    "#check if p value is less than significance level\n",
    "if pvalue < alpha:\n",
    "    print(\"Reject the null hypothesis\")\n",
    "    print(\"Final conclusion :\",alternate_hypothesis)\n",
    "else:\n",
    "    print(\"Failed to Reject the null hypothesis\")\n",
    "    print(\"Final conclusion\",null_hypothesis)"
   ]
  },
  {
   "cell_type": "markdown",
   "id": "09a5e02c-dd67-4cbf-a1e9-fb9938d15339",
   "metadata": {},
   "source": [
    "Answer 3:-"
   ]
  },
  {
   "cell_type": "code",
   "execution_count": 3,
   "id": "f88f5301-79c4-4ee1-9b5e-33f84941607e",
   "metadata": {},
   "outputs": [
    {
     "name": "stdout",
     "output_type": "stream",
     "text": [
      "Chi square statistic :  5.833333333333334\n",
      "P-value statistic :  0.05411376622282158\n",
      "Degree of freedom :  2\n",
      "\n",
      "Expected Frequencies : \n",
      "\n",
      "           Group A  Group B\n",
      "Outcome 1     15.0     20.0\n",
      "Outcome 2     15.0     20.0\n",
      "Outcome 3     15.0     20.0\n"
     ]
    }
   ],
   "source": [
    "from scipy.stats import chi2_contingency\n",
    "import numpy as np\n",
    "import pandas as pd\n",
    "\n",
    "contingency_table = np.array([[20,15],[10,25],[15,20]])\n",
    "\n",
    "#chisquare test for independence\n",
    "chi_square,p_value,degree,expected = chi2_contingency(contingency_table)\n",
    "\n",
    "expected_df = pd.DataFrame(expected)\n",
    "expected_df.columns = ['Group A','Group B']\n",
    "expected_df.index = ['Outcome 1','Outcome 2','Outcome 3']\n",
    "\n",
    "\n",
    "print(\"Chi square statistic : \" , chi_square)\n",
    "print(\"P-value statistic : \" , p_value)\n",
    "print(\"Degree of freedom : \" , degree)\n",
    "print(f\"\\nExpected Frequencies : \\n\\n{expected_df}\")"
   ]
  },
  {
   "cell_type": "markdown",
   "id": "fa3c2c18-ad4a-4a10-8ec7-ee0a8d5898c9",
   "metadata": {},
   "source": [
    "Answer 4:-"
   ]
  },
  {
   "cell_type": "code",
   "execution_count": 4,
   "id": "2bc02190-cc61-48cd-aa1b-ac7513a2b408",
   "metadata": {},
   "outputs": [
    {
     "name": "stdout",
     "output_type": "stream",
     "text": [
      "Z-Statistic :  1.959963984540054\n",
      "95% Confidence Intervals : ( 0.09151638887130707 , 0.1484836111286929 )\n",
      "95% Confidence Intervals of the individuls who smoke in % : ( 9.15% , 14.85% )\n"
     ]
    }
   ],
   "source": [
    "import scipy.stats as stats\n",
    "import math \n",
    "#sample size\n",
    "n=500\n",
    "#no of people smoking from sample\n",
    "x=60\n",
    "#propotion of people who smoke from th sample \n",
    "p = x/n\n",
    "#confidence interval\n",
    "ci = 0.95\n",
    "#significance level\n",
    "alpha = 1-ci\n",
    "\n",
    "#finding z statistic\n",
    "z_statistic = stats.norm.ppf(1-alpha/2)\n",
    "\n",
    "print(\"Z-Statistic : \" , z_statistic)\n",
    "\n",
    "#standard error\n",
    "standard_error = math.sqrt((p*(1-p))/n)\n",
    "\n",
    "#margin of error\n",
    "moe = z_statistic*standard_error\n",
    "\n",
    "#confidence intervals\n",
    "ci_lower = p - moe\n",
    "ci_upper = p + moe\n",
    "\n",
    "\n",
    "print(f\"95% Confidence Intervals : ( {ci_lower} , {ci_upper} )\")\n",
    "print(f\"95% Confidence Intervals of the individuls who smoke in % : ( {ci_lower*100:.2f}% , {ci_upper*100:.2f}% )\")"
   ]
  },
  {
   "cell_type": "markdown",
   "id": "1ab53d7e-9218-4b4b-974a-9e2526a27a12",
   "metadata": {},
   "source": [
    "Answer 5:-"
   ]
  },
  {
   "cell_type": "code",
   "execution_count": 5,
   "id": "52a86fee-9c72-4ec4-8246-aaf9c72a4e95",
   "metadata": {},
   "outputs": [
    {
     "name": "stdout",
     "output_type": "stream",
     "text": [
      "t-statistic : 1.6849\n",
      "90% Confidence Interval : ( 71.80 , 78.20 ) \n"
     ]
    }
   ],
   "source": [
    "import math\n",
    "from scipy.stats import t\n",
    "\n",
    "sample_mean = 75\n",
    "sample_std = 12\n",
    "ci=0.90\n",
    "alpha = 1-ci\n",
    "n = 40 #assumption because value is not given\n",
    "df=n-1\n",
    "\n",
    "#since population standard deviation is unkown we will use t test\n",
    "t_statistic = t.ppf(1-alpha/2,df)\n",
    "\n",
    "print(f\"t-statistic : {t_statistic:.4f}\")\n",
    "\n",
    "#standard error \n",
    "standard_error = sample_std/math.sqrt(n)\n",
    "\n",
    "#margin or error\n",
    "moe = t_statistic*standard_error\n",
    "\n",
    "#confidence interval\n",
    "ci_upper = sample_mean + moe\n",
    "ci_lower = sample_mean - moe\n",
    "\n",
    "print(f\"90% Confidence Interval : ( {ci_lower:.2f} , {ci_upper:.2f} ) \")"
   ]
  },
  {
   "cell_type": "markdown",
   "id": "83f47ae7-5b2c-4a78-a36f-fe4ac8b25ffb",
   "metadata": {},
   "source": [
    "Answer 6:-"
   ]
  },
  {
   "cell_type": "code",
   "execution_count": 6,
   "id": "22804017-22c0-4012-917a-b82828fed3ab",
   "metadata": {},
   "outputs": [
    {
     "data": {
      "image/png": "[encoded data removed]",
      "text/plain": [
       "<Figure size 640x480 with 1 Axes>"
      ]
     },
     "metadata": {},
     "output_type": "display_data"
    }
   ],
   "source": [
    "import numpy as np\n",
    "import matplotlib.pyplot as plt\n",
    "from scipy.stats import chi2\n",
    "\n",
    "# Define the degrees of freedom\n",
    "df = 10\n",
    "\n",
    "# Create an array of values for the x-axis (chi-square statistic)\n",
    "x = np.linspace(0, 30, 500)\n",
    "\n",
    "# Calculate the chi-square distribution for the given degrees of freedom\n",
    "chi_square_dist = chi2.pdf(x, df)\n",
    "\n",
    "# Plot the chi-square distribution\n",
    "plt.plot(x, chi_square_dist, label=f\"Chi-Square (df={df})\")\n",
    "\n",
    "# Shade the area corresponding to a chi-square statistic of 15\n",
    "plt.fill_between(x, chi_square_dist, where=(x >= 15), color='blue', alpha=0.5, label=\"Chi-Square Statistic = 15\")\n",
    "\n",
    "# Label the axes and add a legend\n",
    "plt.xlabel(\"Chi-Square Statistic\")\n",
    "plt.ylabel(\"Probability Density Function\")\n",
    "plt.legend()\n",
    "\n",
    "# Show the plot\n",
    "plt.show()"
   ]
  },
  {
   "cell_type": "markdown",
   "id": "795b1856-4b5d-4bb5-a842-f4dc5889d5b1",
   "metadata": {},
   "source": [
    "Answer 7:-"
   ]
  },
  {
   "cell_type": "code",
   "execution_count": 7,
   "id": "a9e70c66-b2cc-4c33-b44b-7bb68d83e49b",
   "metadata": {},
   "outputs": [
    {
     "name": "stdout",
     "output_type": "stream",
     "text": [
      "Z-critical :  2.5758293035489004\n",
      "99% Confidence Interval : ( 0.4793051576779699 , 0.5606948423220302 ) \n",
      "99% Confidence Interval for the true propotion in % ( 47.93% , 56.07% ) \n"
     ]
    }
   ],
   "source": [
    "import scipy.stats as stats\n",
    "\n",
    "n =1000\n",
    "x=520\n",
    "ci = 0.99\n",
    "alpha = 1-ci\n",
    "df = n-1\n",
    "\n",
    "z_critical = stats.norm.ppf(1 - (1 - ci) / 2)\n",
    "\n",
    "#calculate proption and standard\n",
    "p = x/n\n",
    "prop_error = math.sqrt((p*(1-p))/n)\n",
    "\n",
    "#margin of error\n",
    "moe = z_critical*prop_error\n",
    "\n",
    "#confidence interval\n",
    "ci_upper= p + moe\n",
    "ci_lower= p - moe\n",
    "\n",
    "print(\"Z-critical : \" , z_critical)\n",
    "print(f\"99% Confidence Interval : ( {ci_lower} , {ci_upper} ) \")\n",
    "print(f\"99% Confidence Interval for the true propotion in % ( {ci_lower*100:.2f}% , {ci_upper*100:.2f}% ) \")"
   ]
  },
  {
   "cell_type": "markdown",
   "id": "0e71596e-cfdc-4209-a2b1-e357a96d7dde",
   "metadata": {},
   "source": [
    "Answer 8-"
   ]
  },
  {
   "cell_type": "code",
   "execution_count": 8,
   "id": "26a0a7ee-149d-4d3b-bef8-d03461aac029",
   "metadata": {},
   "outputs": [
    {
     "name": "stdout",
     "output_type": "stream",
     "text": [
      "t-value : 1.0\n",
      "p_value : 0.31731050786291115\n",
      "Failed to Reject the null hypothesis\n",
      "Final Conclusion : coin is unbiased\n"
     ]
    }
   ],
   "source": [
    "import scipy.stats as stats\n",
    "\n",
    "null_hypothesis = \"coin is unbiased\"\n",
    "alternate_hypothesis = \"coin is baised towards tails\"\n",
    "n=100\n",
    "x = 45\n",
    "alpha = 0.05\n",
    "\n",
    "observed_frequency=[45,55]\n",
    "expected_frequency = [50,50]\n",
    "\n",
    "chisquare_test,pvalue = stats.chisquare(observed_frequency,expected_frequency)\n",
    "\n",
    "print(f\"t-value : {chisquare_test}\")\n",
    "print(f\"p_value : {pvalue}\")\n",
    "\n",
    "#checking with significance level\n",
    "if pvalue< alpha :\n",
    "    print(\"Reject the null hypothesis\")\n",
    "    print(f\"Final Conclusion : {alternate_hypothesis}\")\n",
    "else:\n",
    "    print(\"Failed to Reject the null hypothesis\")\n",
    "    print(f\"Final Conclusion : {null_hypothesis}\")"
   ]
  },
  {
   "cell_type": "markdown",
   "id": "3d81f8aa-b5a0-4bd4-a9bf-b120207ca6af",
   "metadata": {},
   "source": [
    "Answer 9:-"
   ]
  },
  {
   "cell_type": "code",
   "execution_count": 9,
   "id": "11079f3b-d050-44ad-b69a-39ea6b840dad",
   "metadata": {},
   "outputs": [
    {
     "name": "stdout",
     "output_type": "stream",
     "text": [
      "Observed Data : \n",
      "\n",
      "             Lung Cancer:Yes  Lung Cancer:No\n",
      "Smoker                   60             140\n",
      "Non-Smoker               30             170\n",
      "\n",
      "\n",
      "Expected Data : \n",
      "\n",
      "             Lung Cancer:Yes  Lung Cancer:No\n",
      "Smoker                 45.0           155.0\n",
      "Non-Smoker             45.0           155.0\n",
      "\n",
      "\n",
      "\n",
      "Chi-statistic :  12.057347670250895\n",
      "p-value : 0.0005158863863703744 \n",
      "Degree of freedom : 1 \n",
      "\n",
      "\n",
      "Reject the null hypohesis\n",
      "Final Conclusion : There is a significant association between smoking status and lung cancer diagnosis \n"
     ]
    }
   ],
   "source": [
    "from scipy.stats import chi2_contingency\n",
    "import numpy as np\n",
    "import pandas as pd\n",
    "\n",
    "df = pd.DataFrame({\"Lung Cancer:Yes\" : [60,30] , \"Lung Cancer:No\" : [140,170]})\n",
    "df.index = [\"Smoker\",\"Non-Smoker\"]\n",
    "\n",
    "alpha = 0.05\n",
    "\n",
    "null_hypothothesis = \"There is no significant association between smoking status and lung cancer diagnosis\"\n",
    "alternate_hypothesis = \"There is a significant association between smoking status and lung cancer diagnosis\"\n",
    "\n",
    "#chisquare test statistic\n",
    "chisquare_statistic ,p_value,dof,expected = chi2_contingency(df)\n",
    "\n",
    "#expected data convert to data frame\n",
    "expected_df = pd.DataFrame(expected)\n",
    "expected_df.index = [\"Smoker\",\"Non-Smoker\"]\n",
    "expected_df.columns = [\"Lung Cancer:Yes\",\"Lung Cancer:No\"]\n",
    "\n",
    "print(f\"Observed Data : \\n\\n {df}\")\n",
    "print(f\"\\n\\nExpected Data : \\n\\n\",expected_df)\n",
    "print(\"\\n\\n\\nChi-statistic : \",chisquare_statistic)\n",
    "print(f\"p-value : {p_value} \")\n",
    "print(f\"Degree of freedom : {dof} \\n\\n\")\n",
    "\n",
    "if p_value < alpha:\n",
    "    print(\"Reject the null hypohesis\")\n",
    "    print(f\"Final Conclusion : {alternate_hypothesis} \")\n",
    "else:\n",
    "    print(\"Failed to reject the null hypohesis\")\n",
    "    print(f\"Final Conclusion : {null_hypothesis} \")"
   ]
  },
  {
   "cell_type": "markdown",
   "id": "4764dcf3-ee2c-435d-b94e-8bff55a06aa1",
   "metadata": {},
   "source": [
    "Answer 10:-"
   ]
  },
  {
   "cell_type": "code",
   "execution_count": 10,
   "id": "3cb43fe3-b8a8-406b-94d0-5fe6b261808b",
   "metadata": {},
   "outputs": [
    {
     "name": "stdout",
     "output_type": "stream",
     "text": [
      "Observed Data : \n",
      "\n",
      "              Milk Chocolate  Dark Chocolate  White Chocolate\n",
      "U.S.(n=500)             200             150              150\n",
      "U.K.(n=500)             225             175              100\n",
      "\n",
      "\n",
      "Expected Data : \n",
      "\n",
      "              Milk Chocolate  Dark Chocolate  White Chocolate\n",
      "U.S.(n=500)           212.5           162.5            125.0\n",
      "U.K.(n=500)           212.5           162.5            125.0\n",
      "\n",
      "\n",
      "\n",
      "Chi-statistic :  13.393665158371041\n",
      "p-value : 0.0012348168997745918 \n",
      "Degree of freedom : 2 \n",
      "\n",
      "\n",
      "Reject the null hypohesis\n",
      "Final Conclusion : There is a significant association between chocolate preference and country of origin \n"
     ]
    }
   ],
   "source": [
    "from scipy.stats import chi2_contingency\n",
    "import numpy as np\n",
    "import pandas as pd\n",
    "\n",
    "df = pd.DataFrame({\"Milk Chocolate\" : [200,225] , \"Dark Chocolate\" : [150,175],\"White Chocolate\" : [150,100]})\n",
    "df.index = [\"U.S.(n=500)\",\"U.K.(n=500)\"]\n",
    "\n",
    "alpha = 0.01\n",
    "\n",
    "null_hypothothesis = \"There is no significant association between chocolate preference and country of origin\"\n",
    "alternate_hypothesis = \"There is a significant association between chocolate preference and country of origin\"\n",
    "\n",
    "#chisquare test statistic\n",
    "chisquare_statistic ,p_value,dof,expected = chi2_contingency(df)\n",
    "\n",
    "#expected data convert to data frame\n",
    "expected_df = pd.DataFrame(expected)\n",
    "expected_df.index = [\"U.S.(n=500)\",\"U.K.(n=500)\"]\n",
    "expected_df.columns = [\"Milk Chocolate\",\"Dark Chocolate\",\"White Chocolate\"]\n",
    "\n",
    "print(f\"Observed Data : \\n\\n {df}\")\n",
    "print(f\"\\n\\nExpected Data : \\n\\n\",expected_df)\n",
    "print(\"\\n\\n\\nChi-statistic : \",chisquare_statistic)\n",
    "print(f\"p-value : {p_value} \")\n",
    "print(f\"Degree of freedom : {dof} \\n\\n\")\n",
    "\n",
    "if p_value < alpha:\n",
    "    print(\"Reject the null hypohesis\")\n",
    "    print(f\"Final Conclusion : {alternate_hypothesis} \")\n",
    "else:\n",
    "    print(\"Failed to reject the null hypohesis\")\n",
    "    print(f\"Final Conclusion : {null_hypothesis} \")"
   ]
  },
  {
   "cell_type": "markdown",
   "id": "c399adac-2087-4b81-891f-d386f1b7db94",
   "metadata": {},
   "source": [
    "Answer 11:-"
   ]
  },
  {
   "cell_type": "code",
   "execution_count": 11,
   "id": "6e72ed8b-2bb7-4d56-b4ab-8e32bf722326",
   "metadata": {},
   "outputs": [
    {
     "name": "stdout",
     "output_type": "stream",
     "text": [
      "p-value :  0.2823362372860698\n",
      "Failed to reject the null hypohesis\n",
      "Final Conclusion : Population mean is 70 \n"
     ]
    }
   ],
   "source": [
    "#solving using t test\n",
    "from scipy.stats import t\n",
    "import math\n",
    "\n",
    "n=30\n",
    "sample_mean =72\n",
    "sample_std = 10\n",
    "dof = n-1\n",
    "alpha = 0.05\n",
    "\n",
    "null_hypothesis = \"Population mean is 70\"\n",
    "alternate_hypothesis = \"Population mean is significantly different from 70\"\n",
    "\n",
    "# Calculate the t-statistic\n",
    "t_stat = (sample_mean - 70) / (sample_std / math.sqrt(n))\n",
    "\n",
    "# Calculate the p-value\n",
    "p_value = 2 * (1 - t.cdf(t_stat, dof))\n",
    "\n",
    "print(\"p-value : \",p_value)\n",
    "\n",
    "if p_value < alpha:\n",
    "    print(\"Reject the null hypohesis\")\n",
    "    print(f\"Final Conclusion : {alternate_hypothesis} \")\n",
    "else:\n",
    "    print(\"Failed to reject the null hypohesis\")\n",
    "    print(f\"Final Conclusion : {null_hypothesis} \")"
   ]
  },
  {
   "cell_type": "code",
   "execution_count": 12,
   "id": "bcbcf781-4be7-4c4a-9cf0-ab0f62f79979",
   "metadata": {},
   "outputs": [
    {
     "name": "stdout",
     "output_type": "stream",
     "text": [
      "chisquare-value : 0.05714285714285714\n",
      "p-value :  1.0\n",
      "Failed to Reject the null hypothesis\n",
      "Final Conclusion : Population mean is 70\n"
     ]
    }
   ],
   "source": [
    "#solving using chisquare test\n",
    "import scipy.stats as stats\n",
    "import math\n",
    "\n",
    "null_hypothesis = \"Population mean is 70\"\n",
    "alternate_hypothesis = \"Population mean is significantly different from 70\"\n",
    "\n",
    "n=30\n",
    "sample_mean =72\n",
    "sample_std = 10\n",
    "dof = n-1\n",
    "alpha = 0.05\n",
    "\n",
    "\n",
    "observed_mean= 72\n",
    "expected_mean = 70\n",
    "\n",
    "#χ² = Σ [(Observed Frequency - Expected Frequency)² / Expected Frequency]\n",
    "chi_square_test = (math.pow(observed_mean - expected_mean,2))/expected_mean\n",
    "\n",
    "print(f\"chisquare-value : {chi_square_test}\")\n",
    "\n",
    "# Calculate the p-value\n",
    "p_value = 1 - stats.chi2.cdf(chi_square_test, dof)\n",
    "\n",
    "print(\"p-value : \",p_value)\n",
    "\n",
    "#checking with significance level\n",
    "if pvalue< alpha :\n",
    "    print(\"Reject the null hypothesis\")\n",
    "    print(f\"Final Conclusion : {alternate_hypothesis}\")\n",
    "else:\n",
    "    print(\"Failed to Reject the null hypothesis\")\n",
    "    print(f\"Final Conclusion : {null_hypothesis}\")\n",
    "    "
   ]
  },
  {
   "cell_type": "code",
   "execution_count": null,
   "id": "96979d99-a36a-4a6c-ac28-e83462b96ebe",
   "metadata": {},
   "outputs": [],
   "source": []
  }
 ],
 "metadata": {
  "kernelspec": {
   "display_name": "Python 3 (ipykernel)",
   "language": "python",
   "name": "python3"
  },
  "language_info": {
   "codemirror_mode": {
    "name": "ipython",
    "version": 3
   },
   "file_extension": ".py",
   "mimetype": "text/x-python",
   "name": "python",
   "nbconvert_exporter": "python",
   "pygments_lexer": "ipython3",
   "version": "3.12.4"
  }
 },
 "nbformat": 4,
 "nbformat_minor": 5
}
